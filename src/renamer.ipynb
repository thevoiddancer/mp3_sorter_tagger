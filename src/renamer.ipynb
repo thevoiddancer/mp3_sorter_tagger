{
 "cells": [
  {
   "cell_type": "code",
   "execution_count": 60,
   "metadata": {},
   "outputs": [
    {
     "name": "stdout",
     "output_type": "stream",
     "text": [
      "[2005] - Forever and Beyond\n",
      "2005 - Forever And Beyond\n",
      "2011 - Underbeat EP\n",
      "2011 - Underbeat [EP]\n",
      "[2007] - Holy Machine (EP)\n",
      "2007 - Holy Machine [EP]\n",
      "2023 - Jupiter\n",
      "2023 - Jupiter\n",
      "More than Machinery\n",
      "More Than Machinery\n",
      "1997 - Electronic Controlled Mind [EP]\n",
      "1997 - Electronic Controlled Mind [EP]\n",
      "2019 - No Man Covers - Single\n",
      "2019 - No Man Covers [Single]\n",
      "2001 - Jukka2147.DE\n",
      "2001 - Jukka2147.De\n",
      "2002 - Virgin Mary\n",
      "2002 - Virgin Mary\n",
      "2012 a nice place to destroy EP\n",
      "2012 - A Nice Place To Destroy [EP]\n",
      "2011 the devil's in the details EP\n",
      "2011 - The Devil'S In The Details [EP]\n",
      "2011 all beauty destroyed - Remixes\n",
      "2011 - All Beauty Destroyed [Remixes]\n",
      "2015 Blood Spills Not Far From The Wound\n",
      "2015 - Blood Spills Not Far From The Wound\n"
     ]
    }
   ],
   "source": [
    "import os\n",
    "import re\n",
    "import pathlib\n",
    "\n",
    "path = '/home/naztom/tvd/mp3_sorter_tagger/data/'\n",
    "os.chdir(path)\n",
    "\n",
    "def album_has_year(dirname):\n",
    "    return dirname[:4].isnumeric() or dirname[1:5].isnumeric()\n",
    "\n",
    "# TODO: check if year string or int later on\n",
    "def split_album_year_name(dirname):\n",
    "    if not album_has_year(dirname):\n",
    "        year, name = None, dirname\n",
    "    else:\n",
    "        try:\n",
    "            year = int(dirname[:4])\n",
    "            name = dirname[4:].strip(' -_]')\n",
    "        except Exception:\n",
    "            year = int(dirname[1:5])\n",
    "            name = dirname[5:].strip(' -_]')\n",
    "    return year, name\n",
    "\n",
    "def split_album_name_type(dirname):\n",
    "    types = '|'.join(['ep', 'single', 'remixes'])\n",
    "    pattern = fr'([\\(\\[^\\w]?({types})[\\)\\]^\\w]?)'\n",
    "    pattern_compiled = re.compile(pattern, re.I)\n",
    "    res = re.search(pattern_compiled, dirname)\n",
    "    if res:\n",
    "        type = res.group(2)\n",
    "        name = dirname.split(res.group(1))[0].strip()\n",
    "    else:\n",
    "        type, name = None, dirname\n",
    "    return name.rstrip(' -').title(), type\n",
    "\n",
    "# TODO: custom title\n",
    "def custom_title(string):\n",
    "    \n",
    "\n",
    "for band in os.listdir():\n",
    "    os.chdir(path + band)\n",
    "    for folder in os.listdir():\n",
    "        print(folder)\n",
    "        year, name = split_album_year_name(folder)\n",
    "        name, type = split_album_name_type(name)\n",
    "        # print(f'\\t{year} - {name.title()} [{type}]')\n",
    "        full = ' - '.join([str(year), name]) if year else name\n",
    "        full += f' [{type}]' if type else ''\n",
    "        print(full)\n",
    "\n",
    "\n",
    "            # album_name, album_type = get_album_type(folder)\n",
    "            # print('\\t', album_name, album_type)\n",
    "            # album_name = split_album_year_name(album_name)\n",
    "            # if album_type:\n",
    "            #     album_name = f'{album_name} [{album_type}]'\n",
    "            # print('\\t', album_name)\n",
    "            \n",
    "\n"
   ]
  },
  {
   "cell_type": "code",
   "execution_count": 64,
   "metadata": {},
   "outputs": [
    {
     "data": {
      "text/plain": [
       "\"King'S Cross, Uk\""
      ]
     },
     "execution_count": 64,
     "metadata": {},
     "output_type": "execute_result"
    }
   ],
   "source": [
    "string = \"King's cross, UK\"\n",
    "string_title = string.title()\n"
   ]
  }
 ],
 "metadata": {
  "kernelspec": {
   "display_name": "mp3_sorter_tagger",
   "language": "python",
   "name": "python3"
  },
  "language_info": {
   "codemirror_mode": {
    "name": "ipython",
    "version": 3
   },
   "file_extension": ".py",
   "mimetype": "text/x-python",
   "name": "python",
   "nbconvert_exporter": "python",
   "pygments_lexer": "ipython3",
   "version": "3.11.9"
  }
 },
 "nbformat": 4,
 "nbformat_minor": 2
}
