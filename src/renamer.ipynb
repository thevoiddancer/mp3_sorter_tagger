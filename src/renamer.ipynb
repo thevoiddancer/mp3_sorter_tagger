{
 "cells": [
  {
   "cell_type": "code",
   "execution_count": 9,
   "metadata": {},
   "outputs": [],
   "source": [
    "import os\n",
    "from collections import defaultdict\n",
    "from mp3_sorter_tagger.helpers import check_name_change_safe, split_album_year_name, split_album_name_type\n",
    "\n",
    "def get_library():\n",
    "    root = '/mnt/d/Soulseek'\n",
    "    folders = {}\n",
    "    for band in os.listdir(root):\n",
    "        if band == '_VA':\n",
    "            continue\n",
    "        folders[band] = {}\n",
    "        for album in os.listdir(os.path.join(root, band)):\n",
    "            path = os.path.join(root, band, album)\n",
    "            if os.path.isdir(path):\n",
    "                folders[band][album] = os.listdir(path)\n",
    "    return folders\n",
    "\n",
    "# folders = get_library()\n",
    "\n",
    "path = '/home/naztom/tvd/mp3_sorter_tagger/data/'\n",
    "os.chdir(path)\n",
    "\n",
    "# to_rename = defaultdict(dict)\n",
    "# all_good = defaultdict(dict)\n",
    "# incorrect_title = defaultdict(dict)\n",
    "\n",
    "# for band in os.listdir():\n",
    "#     os.chdir(path + band)\n",
    "#     for folder in os.listdir():\n",
    "#         year, name = split_album_year_name(folder)\n",
    "#         name, type, name_original, name_changed = split_album_name_type(name)\n",
    "#         full = ' - '.join([str(year), name]) if year else name\n",
    "#         full += f' [{type}]' if type else ''\n",
    "#         if name_changed and not check_name_change_safe(name, name_original):\n",
    "#             incorrect_title[band][folder] = full\n",
    "#         elif folder != full:\n",
    "#             to_rename[band][folder] = full\n",
    "#         else:\n",
    "#             all_good[band][folder] = full\n",
    "\n",
    "# display(incorrect_title)\n",
    "# display(to_rename)\n",
    "# display(all_good)\n",
    "\n"
   ]
  }
 ],
 "metadata": {
  "kernelspec": {
   "display_name": "mp3_sorter_tagger",
   "language": "python",
   "name": "python3"
  },
  "language_info": {
   "codemirror_mode": {
    "name": "ipython",
    "version": 3
   },
   "file_extension": ".py",
   "mimetype": "text/x-python",
   "name": "python",
   "nbconvert_exporter": "python",
   "pygments_lexer": "ipython3",
   "version": "3.11.9"
  }
 },
 "nbformat": 4,
 "nbformat_minor": 2
}
