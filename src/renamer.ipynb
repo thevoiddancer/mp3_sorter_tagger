{
 "cells": [
  {
   "cell_type": "code",
   "execution_count": 52,
   "metadata": {},
   "outputs": [
    {
     "data": {
      "text/plain": [
       "defaultdict(dict,\n",
       "            {'Accessory': {'2001 - Jukka2147.DE': '2001 - Jukka2147.De'},\n",
       "             'Aesthetic Perfection': {\"2011 the devil's in the details EP\": \"2011 - The Devil'S In The Details [EP]\"}})"
      ]
     },
     "metadata": {},
     "output_type": "display_data"
    },
    {
     "data": {
      "text/plain": [
       "defaultdict(dict,\n",
       "            {'Accessory': {'2011 - Underbeat EP': '2011 - Underbeat [EP]',\n",
       "              '[2007] - Holy Machine (EP)': '2007 - Holy Machine [EP]',\n",
       "              'More than Machinery': 'More Than Machinery',\n",
       "              '2019 - No Man Covers - Single': '2019 - No Man Covers [Single]'},\n",
       "             'Aesthetic Perfection': {'2012 a nice place to destroy EP': '2012 - A Nice Place To Destroy [EP]',\n",
       "              '2011 all beauty destroyed - Remixes': '2011 - All Beauty Destroyed [Remixes]',\n",
       "              '2015 Blood Spills Not Far From The Wound': '2015 - Blood Spills Not Far From The Wound'}})"
      ]
     },
     "metadata": {},
     "output_type": "display_data"
    },
    {
     "data": {
      "text/plain": [
       "defaultdict(dict,\n",
       "            {'Accessory': {'2023 - Jupiter': '2023 - Jupiter',\n",
       "              '2005 - Forever And Beyond': '2005 - Forever And Beyond',\n",
       "              '1997 - Electronic Controlled Mind [EP]': '1997 - Electronic Controlled Mind [EP]'},\n",
       "             '18 Summers': {'2002 - Virgin Mary': '2002 - Virgin Mary'}})"
      ]
     },
     "metadata": {},
     "output_type": "display_data"
    }
   ],
   "source": [
    "import os\n",
    "import re\n",
    "from collections import defaultdict\n",
    "\n",
    "path = '/home/naztom/tvd/mp3_sorter_tagger/data/'\n",
    "os.chdir(path)\n",
    "\n",
    "def album_has_year(dirname):\n",
    "    return dirname[:4].isnumeric() or dirname[1:5].isnumeric()\n",
    "\n",
    "# TODO: check if year string or int later on\n",
    "def split_album_year_name(dirname):\n",
    "    if not album_has_year(dirname):\n",
    "        year, name = None, dirname\n",
    "    else:\n",
    "        try:\n",
    "            year = int(dirname[:4])\n",
    "            name = dirname[4:].strip(' -_]')\n",
    "        except Exception:\n",
    "            year = int(dirname[1:5])\n",
    "            name = dirname[5:].strip(' -_]')\n",
    "    return year, name\n",
    "\n",
    "def split_album_name_type(dirname):\n",
    "    types = '|'.join(['ep', 'single', 'remixes'])\n",
    "    pattern = fr'([\\(\\[^\\w]?({types})[\\)\\]^\\w]?)'\n",
    "    pattern_compiled = re.compile(pattern, re.I)\n",
    "    res = re.search(pattern_compiled, dirname)\n",
    "    if res:\n",
    "        type = res.group(2)\n",
    "        name = dirname.split(res.group(1))[0].strip()\n",
    "    else:\n",
    "        type, name = None, dirname\n",
    "    name_original = name.rstrip(' -')\n",
    "    name_title = name_original.title()\n",
    "    changed = name_original != name_title\n",
    "    return name_title, type, name_original, changed\n",
    "\n",
    "def check_title(old, new):\n",
    "    for idx, (letter_old, letter_new) in enumerate(zip(old, new)):\n",
    "        prev_old = old[idx-1]\n",
    "        if letter_old != letter_new and prev_old != ' ' and idx != 0:\n",
    "            return False\n",
    "    return True\n",
    "\n",
    "to_rename = defaultdict(dict)\n",
    "all_good = defaultdict(dict)\n",
    "incorrect_title = defaultdict(dict)\n",
    "\n",
    "for band in os.listdir():\n",
    "    os.chdir(path + band)\n",
    "    for folder in os.listdir():\n",
    "        year, name = split_album_year_name(folder)\n",
    "        name, type, name_original, name_changed = split_album_name_type(name)\n",
    "        full = ' - '.join([str(year), name]) if year else name\n",
    "        full += f' [{type}]' if type else ''\n",
    "        if name_changed and not check_title(name, name_original):\n",
    "            incorrect_title[band][folder] = full\n",
    "        elif folder != full:\n",
    "            to_rename[band][folder] = full\n",
    "        else:\n",
    "            all_good[band][folder] = full\n",
    "\n",
    "display(incorrect_title)\n",
    "display(to_rename)\n",
    "display(all_good)\n",
    "\n"
   ]
  },
  {
   "cell_type": "code",
   "execution_count": 51,
   "metadata": {},
   "outputs": [
    {
     "name": "stdout",
     "output_type": "stream",
     "text": [
      "['[2005] - Forever and Beyond', '2011 - Underbeat EP', '[2007] - Holy Machine (EP)', '2023 - Jupiter', 'More than Machinery', '1997 - Electronic Controlled Mind [EP]', '2019 - No Man Covers - Single', '2001 - Jukka2147.DE']\n",
      "['2011 - Underbeat EP', '[2007] - Holy Machine (EP)', '2023 - Jupiter', 'More than Machinery', '2005 - Forever And Beyond', '1997 - Electronic Controlled Mind [EP]', '2019 - No Man Covers - Single', '2001 - Jukka2147.DE']\n"
     ]
    }
   ],
   "source": [
    "old = '[2005] - Forever and Beyond'\n",
    "new = '2005 - Forever And Beyond'\n",
    "band = 'Accessory'\n",
    "os.chdir(path + band)\n",
    "print(os.listdir())\n",
    "os.rename(old, new)\n",
    "print(os.listdir())\n"
   ]
  }
 ],
 "metadata": {
  "kernelspec": {
   "display_name": "mp3_sorter_tagger",
   "language": "python",
   "name": "python3"
  },
  "language_info": {
   "codemirror_mode": {
    "name": "ipython",
    "version": 3
   },
   "file_extension": ".py",
   "mimetype": "text/x-python",
   "name": "python",
   "nbconvert_exporter": "python",
   "pygments_lexer": "ipython3",
   "version": "3.11.9"
  }
 },
 "nbformat": 4,
 "nbformat_minor": 2
}
