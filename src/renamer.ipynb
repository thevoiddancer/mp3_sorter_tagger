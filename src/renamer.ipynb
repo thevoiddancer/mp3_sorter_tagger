{
 "cells": [
  {
   "cell_type": "code",
   "execution_count": 52,
   "metadata": {},
   "outputs": [
    {
     "data": {
      "text/plain": [
       "defaultdict(dict,\n",
       "            {'Accessory': {'2001 - Jukka2147.DE': '2001 - Jukka2147.De'},\n",
       "             'Aesthetic Perfection': {\"2011 the devil's in the details EP\": \"2011 - The Devil'S In The Details [EP]\"}})"
      ]
     },
     "metadata": {},
     "output_type": "display_data"
    },
    {
     "data": {
      "text/plain": [
       "defaultdict(dict,\n",
       "            {'Accessory': {'2011 - Underbeat EP': '2011 - Underbeat [EP]',\n",
       "              '[2007] - Holy Machine (EP)': '2007 - Holy Machine [EP]',\n",
       "              'More than Machinery': 'More Than Machinery',\n",
       "              '2019 - No Man Covers - Single': '2019 - No Man Covers [Single]'},\n",
       "             'Aesthetic Perfection': {'2012 a nice place to destroy EP': '2012 - A Nice Place To Destroy [EP]',\n",
       "              '2011 all beauty destroyed - Remixes': '2011 - All Beauty Destroyed [Remixes]',\n",
       "              '2015 Blood Spills Not Far From The Wound': '2015 - Blood Spills Not Far From The Wound'}})"
      ]
     },
     "metadata": {},
     "output_type": "display_data"
    },
    {
     "data": {
      "text/plain": [
       "defaultdict(dict,\n",
       "            {'Accessory': {'2023 - Jupiter': '2023 - Jupiter',\n",
       "              '2005 - Forever And Beyond': '2005 - Forever And Beyond',\n",
       "              '1997 - Electronic Controlled Mind [EP]': '1997 - Electronic Controlled Mind [EP]'},\n",
       "             '18 Summers': {'2002 - Virgin Mary': '2002 - Virgin Mary'}})"
      ]
     },
     "metadata": {},
     "output_type": "display_data"
    }
   ],
   "source": [
    "import os\n",
    "from collections import defaultdict\n",
    "from mp3_sorter_tagger import check_name_change_safe, split_album_year_name, split_album_name_type\n",
    "\n",
    "path = '/home/naztom/tvd/mp3_sorter_tagger/data/'\n",
    "os.chdir(path)\n",
    "\n",
    "to_rename = defaultdict(dict)\n",
    "all_good = defaultdict(dict)\n",
    "incorrect_title = defaultdict(dict)\n",
    "\n",
    "for band in os.listdir():\n",
    "    os.chdir(path + band)\n",
    "    for folder in os.listdir():\n",
    "        year, name = split_album_year_name(folder)\n",
    "        name, type, name_original, name_changed = split_album_name_type(name)\n",
    "        full = ' - '.join([str(year), name]) if year else name\n",
    "        full += f' [{type}]' if type else ''\n",
    "        if name_changed and not check_name_change_safe(name, name_original):\n",
    "            incorrect_title[band][folder] = full\n",
    "        elif folder != full:\n",
    "            to_rename[band][folder] = full\n",
    "        else:\n",
    "            all_good[band][folder] = full\n",
    "\n",
    "display(incorrect_title)\n",
    "display(to_rename)\n",
    "display(all_good)\n",
    "\n"
   ]
  },
  {
   "cell_type": "code",
   "execution_count": 51,
   "metadata": {},
   "outputs": [
    {
     "name": "stdout",
     "output_type": "stream",
     "text": [
      "['[2005] - Forever and Beyond', '2011 - Underbeat EP', '[2007] - Holy Machine (EP)', '2023 - Jupiter', 'More than Machinery', '1997 - Electronic Controlled Mind [EP]', '2019 - No Man Covers - Single', '2001 - Jukka2147.DE']\n",
      "['2011 - Underbeat EP', '[2007] - Holy Machine (EP)', '2023 - Jupiter', 'More than Machinery', '2005 - Forever And Beyond', '1997 - Electronic Controlled Mind [EP]', '2019 - No Man Covers - Single', '2001 - Jukka2147.DE']\n"
     ]
    }
   ],
   "source": [
    "old = '[2005] - Forever and Beyond'\n",
    "new = '2005 - Forever And Beyond'\n",
    "band = 'Accessory'\n",
    "os.chdir(path + band)\n",
    "print(os.listdir())\n",
    "os.rename(old, new)\n",
    "print(os.listdir())\n"
   ]
  },
  {
   "cell_type": "code",
   "execution_count": 5,
   "metadata": {},
   "outputs": [
    {
     "data": {
      "text/plain": [
       "True"
      ]
     },
     "execution_count": 5,
     "metadata": {},
     "output_type": "execute_result"
    }
   ],
   "source": [
    "params = {\n",
    "    'name': '2002 - Floodland',\n",
    "    'expected': True\n",
    "}\n",
    "locals().update(**params)\n",
    "expected\n"
   ]
  }
 ],
 "metadata": {
  "kernelspec": {
   "display_name": "mp3_sorter_tagger",
   "language": "python",
   "name": "python3"
  },
  "language_info": {
   "codemirror_mode": {
    "name": "ipython",
    "version": 3
   },
   "file_extension": ".py",
   "mimetype": "text/x-python",
   "name": "python",
   "nbconvert_exporter": "python",
   "pygments_lexer": "ipython3",
   "version": "3.11.9"
  }
 },
 "nbformat": 4,
 "nbformat_minor": 2
}
