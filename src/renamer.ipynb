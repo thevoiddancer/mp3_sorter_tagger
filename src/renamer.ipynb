{
 "cells": [
  {
   "cell_type": "code",
   "execution_count": 58,
   "metadata": {},
   "outputs": [
    {
     "name": "stdout",
     "output_type": "stream",
     "text": [
      "2007 - Holy Machine (EP)\n",
      "\t 2007 - Holy Machine [EP]\n",
      "2005 - Forever and Beyond\n",
      "\t 2005 - Forever And Beyond\n",
      "2011 - Underbeat\n",
      "\t 2011 - Underbeat\n",
      "1997 - Electronic Controlled Mind\n",
      "\t 1997 - Electronic Controlled Mind\n",
      "2008 - More than Machinery\n",
      "\t 2008 - More Than Machinery\n",
      "2023 - Jupiter\n",
      "\t 2023 - Jupiter\n",
      "2019 - No Man Covers - Single\n",
      "\t 2019 - No Man Covers - Single\n",
      "2001 - Jukka2147.DE\n",
      "\t 2001 - Jukka2147.De\n",
      "2002 - Virgin Mary\n",
      "\t 2002 - Virgin Mary\n",
      "2012 a nice place to destroy EP\n",
      "\t 2012 - A Nice Place To Destroy [EP]\n",
      "2011 the devil's in the details EP\n",
      "\t 2011 - The Devil'S In The Details [EP]\n",
      "2011 all beauty destroyed - Remixes\n",
      "\t 2011 - All Beauty Destroyed - Remixes\n",
      "2015 Blood Spills Not Far From The Wound\n",
      "\t 2015 - Blood Spills Not Far From The Wound\n"
     ]
    }
   ],
   "source": [
    "import os\n",
    "import re\n",
    "import pathlib\n",
    "\n",
    "path = '/home/naztom/tvd/mp3_sorter_tagger/data/'\n",
    "os.chdir(path)\n",
    "\n",
    "def album_has_year(dirname):\n",
    "    return dirname[:4].isnumeric()\n",
    "\n",
    "def split_album_year_name(dirname):\n",
    "    if album_has_year(dirname):\n",
    "        year = int(dirname[:4])\n",
    "        name = dirname[4:].strip(' -_').title()\n",
    "    return f'{year} - {name}'\n",
    "\n",
    "def get_album_type(dirname):\n",
    "    pattern = r'([\\(\\[^\\w]?(ep|EP|Ep)[\\)\\]^\\w]?)'\n",
    "    res = re.search(pattern, dirname)\n",
    "    if res:\n",
    "        album_type = res.group(2)\n",
    "        album_name = dirname.split(res.group(1))[0].strip()\n",
    "        # album_name = f'{album_name} [{album_type}]'\n",
    "    else:\n",
    "        album_type = None\n",
    "        album_name = dirname\n",
    "    return album_name, album_type\n",
    "\n",
    "\n",
    "\n",
    "for band in os.listdir():\n",
    "    os.chdir(path + band)\n",
    "    for folder in os.listdir():\n",
    "        print(folder)\n",
    "        album_name, album_type = get_album_type(folder)\n",
    "        album_name = split_album_year_name(album_name)\n",
    "        if album_type:\n",
    "            album_name = f'{album_name} [{album_type}]'\n",
    "        print('\\t', album_name)\n",
    "\n"
   ]
  },
  {
   "cell_type": "code",
   "execution_count": 48,
   "metadata": {},
   "outputs": [],
   "source": [
    "def get_album_type(dirname):\n",
    "    pattern = r'([\\(\\[^\\w]?(ep|EP|Ep)[\\)\\]^\\w]?)'\n",
    "    res = re.search(pattern, dirname)\n",
    "    if res:\n",
    "        album_type = res.group(2)\n",
    "        album_name = dirname.split(res.group(1))[0].strip()\n",
    "    return album_name, album_type\n"
   ]
  },
  {
   "cell_type": "code",
   "execution_count": 49,
   "metadata": {},
   "outputs": [
    {
     "data": {
      "text/plain": [
       "('2007 - Holy Machine', 'EP')"
      ]
     },
     "execution_count": 49,
     "metadata": {},
     "output_type": "execute_result"
    }
   ],
   "source": [
    "get_album_type('2007 - Holy Machine (EP)')"
   ]
  }
 ],
 "metadata": {
  "kernelspec": {
   "display_name": "mp3_sorter_tagger",
   "language": "python",
   "name": "python3"
  },
  "language_info": {
   "codemirror_mode": {
    "name": "ipython",
    "version": 3
   },
   "file_extension": ".py",
   "mimetype": "text/x-python",
   "name": "python",
   "nbconvert_exporter": "python",
   "pygments_lexer": "ipython3",
   "version": "3.11.9"
  }
 },
 "nbformat": 4,
 "nbformat_minor": 2
}
